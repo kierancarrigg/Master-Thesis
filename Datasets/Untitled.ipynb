{
 "cells": [
  {
   "cell_type": "code",
   "execution_count": 4,
   "id": "c3059d76-30a4-446d-9924-13171a52f64e",
   "metadata": {
    "tags": []
   },
   "outputs": [
    {
     "name": "stdout",
     "output_type": "stream",
     "text": [
      "Five Guys\n"
     ]
    }
   ],
   "source": [
    "import random\n",
    "had_food = False\n",
    "hungry = True\n",
    "\n",
    "while had_food == False:\n",
    "    if hungry:\n",
    "        choice = random.choice(['KFC', 'Five Guys'])\n",
    "        print(choice)\n",
    "        had_food=True\n",
    "    else:\n",
    "        continue"
   ]
  }
 ],
 "metadata": {
  "kernelspec": {
   "display_name": "Python 3 (ipykernel)",
   "language": "python",
   "name": "python3"
  },
  "language_info": {
   "codemirror_mode": {
    "name": "ipython",
    "version": 3
   },
   "file_extension": ".py",
   "mimetype": "text/x-python",
   "name": "python",
   "nbconvert_exporter": "python",
   "pygments_lexer": "ipython3",
   "version": "3.11.5"
  }
 },
 "nbformat": 4,
 "nbformat_minor": 5
}
