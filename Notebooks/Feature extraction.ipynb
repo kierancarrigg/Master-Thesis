{
 "cells": [
  {
   "cell_type": "code",
   "execution_count": 1,
   "id": "413ea399-7e58-40e0-a6a7-316e1c9be348",
   "metadata": {},
   "outputs": [],
   "source": [
    "import os\n",
    "import pandas as pd\n",
    "import numpy as np\n",
    "import re\n",
    "from __future__ import division\n",
    "import math\n",
    "from scipy.spatial import ConvexHull\n",
    "import scipy\n",
    "from configparser import ConfigParser\n",
    "import glob\n",
    "# from simba.rw_dfs import *"
   ]
  },
  {
   "cell_type": "code",
   "execution_count": 2,
   "id": "e9447a8e-2938-4bae-aa2f-bda38494a6db",
   "metadata": {},
   "outputs": [
    {
     "name": "stdout",
     "output_type": "stream",
     "text": [
      "Extracting features from 98 files...\n",
      "../Datasets/Original\\11.4_Original_data.csv\n",
      "11.4_Original_data.csv\n",
      "11.4_Original_data\n"
     ]
    },
    {
     "data": {
      "text/plain": [
       "Index(['('nose', 'x')', '('nose', 'y')', '('nose', 'likelihood')',\n",
       "       '('H1R', 'x')', '('H1R', 'y')', '('H1R', 'likelihood')', '('H2R', 'x')',\n",
       "       '('H2R', 'y')', '('H2R', 'likelihood')', '('H1L', 'x')', '('H1L', 'y')',\n",
       "       '('H1L', 'likelihood')', '('H2L', 'x')', '('H2L', 'y')',\n",
       "       '('H2L', 'likelihood')', '('B1R', 'x')', '('B1R', 'y')',\n",
       "       '('B1R', 'likelihood')', '('B2R', 'x')', '('B2R', 'y')',\n",
       "       '('B2R', 'likelihood')', '('B3R', 'x')', '('B3R', 'y')',\n",
       "       '('B3R', 'likelihood')', '('B1L', 'x')', '('B1L', 'y')',\n",
       "       '('B1L', 'likelihood')', '('B2L', 'x')', '('B2L', 'y')',\n",
       "       '('B2L', 'likelihood')', '('B3L', 'x')', '('B3L', 'y')',\n",
       "       '('B3L', 'likelihood')', '('tail', 'x')', '('tail', 'y')',\n",
       "       '('tail', 'likelihood')', '('S2', 'x')', '('S2', 'y')',\n",
       "       '('S2', 'likelihood')', '('S1', 'x')', '('S1', 'y')',\n",
       "       '('S1', 'likelihood')'],\n",
       "      dtype='object')"
      ]
     },
     "execution_count": 2,
     "metadata": {},
     "output_type": "execute_result"
    }
   ],
   "source": [
    "in_dir = '../Datasets/Original'\n",
    "filesFound = glob.glob(in_dir + '/*.csv')\n",
    "print('Extracting features from ' + str(len(filesFound)) + ' files...')\n",
    "for currentFile in filesFound:\n",
    "    print(currentFile)\n",
    "    currVidName = os.path.basename(currentFile)\n",
    "    print(currVidName)\n",
    "    currVidName = currVidName.replace('.csv', '')\n",
    "    print(currVidName)\n",
    "    csv_df = pd.read_csv(currentFile)\n",
    "    break\n",
    "csv_df.iloc[:,1:-2].columns"
   ]
  },
  {
   "cell_type": "code",
   "execution_count": null,
   "id": "6ff48291-5f45-4f7b-a8a4-92ad8a1b368c",
   "metadata": {},
   "outputs": [],
   "source": [
    "# Path to the folder containing the data files\n",
    "csv_dir_in = '../Datasets/Original'\n",
    "csv_dir_out = '../Datasets/Original/features_extracted'\n",
    "\n",
    "if not os.path.exists(csv_dir_out):\n",
    "    os.makedirs(csv_dir_out)\n",
    "\n",
    "def count_values_in_range(series, values_in_range_min, values_in_range_max):\n",
    "    return series.between(left=values_in_range_min, right=values_in_range_max).sum()\n",
    "\n",
    "def angle3pt(ax, ay, bx, by, cx, cy):\n",
    "    ang = math.degrees(\n",
    "        math.atan2(cy - by, cx - bx) - math.atan2(ay - by, ax - bx))\n",
    "    return ang + 360 if ang < 0 else ang\n",
    "\n",
    "filesFound = []\n",
    "roll_windows = []\n",
    "roll_windows_values = [2, 5, 6, 7.5, 15]\n",
    "loopy = 0\n",
    "\n",
    "########### FIND CSV FILES ###########\n",
    "filesFound = glob.glob(csv_dir_in + '/*.' + wfileType)\n",
    "print('Extracting features from ' + str(len(filesFound)) + ' files...')\n",
    "\n",
    "########### CREATE PD FOR RAW DATA AND PD FOR MOVEMENT BETWEEN FRAMES ###########\n",
    "for currentFile in filesFound:\n",
    "    M1_hull_large_euclidean_list = []\n",
    "    M1_hull_small_euclidean_list = []\n",
    "    M1_hull_mean_euclidean_list = []\n",
    "    M1_hull_sum_euclidean_list = []\n",
    "    M2_hull_large_euclidean_list = []\n",
    "    M2_hull_small_euclidean_list = []\n",
    "    M2_hull_mean_euclidean_list = []\n",
    "    M2_hull_sum_euclidean_list = []\n",
    "    currVidName = os.path.basename(currentFile)\n",
    "    currVidName = currVidName.replace('.' + wfileType, '')\n",
    "\n",
    "    fps = 25\n",
    "    \n",
    "    for i in range(len(roll_windows_values)):\n",
    "        roll_windows.append(int(fps / roll_windows_values[i]))\n",
    "    loopy += 1\n",
    "    columnHeaders = [\"Ear_left_1_x\", \"Ear_left_1_y\", \"Ear_left_1_p\", \"Ear_right_1_x\", \"Ear_right_1_y\",\n",
    "                     \"Ear_right_1_p\", \"Nose_1_x\", \"Nose_1_y\", \"Nose_1_p\", \"Center_1_x\", \"Center_1_y\", \"Center_1_p\",\n",
    "                     \"Lat_left_1_x\", \"Lat_left_1_y\",\n",
    "                     \"Lat_left_1_p\", \"Lat_right_1_x\", \"Lat_right_1_y\", \"Lat_right_1_p\", \"Tail_base_1_x\",\n",
    "                     \"Tail_base_1_y\", \"Tail_base_1_p\",\n",
    "                     \"Ear_left_2_x\",\n",
    "                     \"Ear_left_2_y\", \"Ear_left_2_p\", \"Ear_right_2_x\", \"Ear_right_2_y\", \"Ear_right_2_p\",\n",
    "                     \"Nose_2_x\", \"Nose_2_y\", \"Nose_2_p\", \"Center_2_x\", \"Center_2_y\", \"Center_2_p\", \"Lat_left_2_x\",\n",
    "                     \"Lat_left_2_y\",\n",
    "                     \"Lat_left_2_p\", \"Lat_right_2_x\", \"Lat_right_2_y\", \"Lat_right_2_p\", \"Tail_base_2_x\",\n",
    "                     \"Tail_base_2_y\", \"Tail_base_2_p\"]\n",
    "    csv_df = read_df(currentFile, wfileType)\n",
    "    csv_df.columns = columnHeaders\n",
    "    csv_df = csv_df.fillna(0)\n",
    "    csv_df = csv_df.drop(csv_df.index[[0]])\n",
    "    csv_df = csv_df.apply(pd.to_numeric)\n",
    "    csv_df = csv_df.reset_index()\n",
    "    csv_df = csv_df.reset_index(drop=True)\n",
    "\n",
    "    print('Evaluating convex hulls...')\n",
    "    "
   ]
  }
 ],
 "metadata": {
  "kernelspec": {
   "display_name": "Python 3 (ipykernel)",
   "language": "python",
   "name": "python3"
  },
  "language_info": {
   "codemirror_mode": {
    "name": "ipython",
    "version": 3
   },
   "file_extension": ".py",
   "mimetype": "text/x-python",
   "name": "python",
   "nbconvert_exporter": "python",
   "pygments_lexer": "ipython3",
   "version": "3.10.9"
  }
 },
 "nbformat": 4,
 "nbformat_minor": 5
}
