{
 "cells": [
  {
   "cell_type": "markdown",
   "metadata": {},
   "source": [
    "Introduction\n",
    "\n",
    "This Python script is designed to create short video clips from a given set of frame numbers, to visualize clusters and see the similarities within clusters. \n",
    "The frames from CLAHE_Animal_150_1DLC_resnet50_Freezing_07-2020Sep29shuffle1_100000_labeled.mp4 video are grouped into clusters, and a separate video clip is generated for each cluster. The output clips are saved in the \"CreatedClips\" directory.\n",
    "\n",
    "Parameters\n",
    "\n",
    "IsItCons: Specifies whether the frames are consecutive or not. If frames are consecutive, set it to an empty string; otherwise, set it to 'Not'. Making directory names propriate. Either Consecutive or NotConsevutive. \n",
    "image_type: Specifies the image type (all lowercase without the dot),can be 'jpg' or 'gif'. However jpg images return better resolution, which I used mostly.\n",
    "frames_saved: Indicates whether to save individual frames in a separate folder (0 for no, 1 for yes). \n",
    "\n",
    "Frame Clusters\n",
    "Frame clusters are defined as lists of frame numbers. Each list represents a cluster, and the clusters are processed sequentially.\n",
    "\n",
    "Usage\n",
    "Adjust the parameters according to your requirements.\n",
    "Run the script to generate video clips.\n",
    "\n",
    "Output\n",
    "Video clips for each frame cluster are saved in the \"CreatedClips\" directory.\n",
    "If frames_saved is set to 1, individual frames are saved in the \"Frames\" directory within each cluster folder.\n",
    "\n",
    "Dependencies\n",
    "The script uses the MoviePy library for video processing. You can install it using the following command:\n",
    "pip install moviepy\n",
    "\n",
    "Notes\n",
    "Ensure that the input frames exist in the \"Frames\" directory with the specified image type."
   ]
  },
  {
   "cell_type": "markdown",
   "metadata": {},
   "source": [
    "Parameters"
   ]
  },
  {
   "cell_type": "code",
   "execution_count": 19,
   "metadata": {},
   "outputs": [],
   "source": [
    "# # Give first and last frame get a clip of consecutive frames image type (all lower letters without .)\n",
    "# IsItCons='' #dontchange\n",
    "# image_type='jpg' \n",
    "# first=0 #first included frame\n",
    "# last=54 #last included frame\n",
    "# all= [range(first,last+1)]\n",
    "# frames_saved=0"
   ]
  },
  {
   "cell_type": "code",
   "execution_count": 20,
   "metadata": {},
   "outputs": [],
   "source": [
    "# Give the frame numbers, image type (all lower letters without .)\n",
    "IsItCons='Not' #dontchange\n",
    "image_type='jpg'\n",
    "frames_saved= 0 #Do you want to save the frames? 0->no 1->yes"
   ]
  },
  {
   "cell_type": "code",
   "execution_count": 21,
   "metadata": {},
   "outputs": [],
   "source": [
    "#give as list of lists, 0th indexed list will be named as cluster 0 ...\n",
    "all=[\n",
    "[328, 329, 330, 331, 332, 333, 334],\n",
    "[336, 337, 338, 339, 340, 341, 342, 343, 344],\n",
    "[367, 368, 369, 370, 371],\n",
    "[991, 992, 993, 994, 995],\n",
    "[1584, 1585, 1586, 1587, 1588],\n",
    "[4436, 4437, 4438, 4439, 4440, 4441, 4442, 4443, 4444, 4445, 4446],\n",
    "[4879, 4880, 4881, 4882, 4883],\n",
    "[4923, 4925, 4926, 4928, 4929, 4930, 4931],\n",
    "[5316, 5318, 5320, 5323, 5324, 5327],\n",
    "[5400, 5401, 5402, 5403, 5404, 5405],\n",
    "[5797, 5798, 5799, 5800, 5801, 5802, 5803],\n",
    "[5820, 5821, 5822, 5823, 5824, 5825, 5826, 5827, 5828, 5829, 5830, 5831, 5832, 5833, 5834, 5835, 5836, 5837, 5838],\n",
    "[5860, 5861, 5862, 5863, 5864, 5865, 5866, 5867],\n",
    "[6204, 6205, 6206, 6207, 6208, 6209, 6210, 6211],\n",
    "[6222, 6223, 6225, 6226, 6227, 6228, 6229, 6238, 6239, 6240, 6241],\n",
    "[6705, 6706, 6707, 6708, 6709, 6710, 6711, 6712],\n",
    "[6713, 6714, 6715, 6716, 6717, 6718],\n",
    "[6841, 6842, 6851, 6853, 6855],\n",
    "[6900, 6901, 6902, 6903, 6904, 6905, 6906, 6907, 6908, 6909, 6910, 6911, 6912, 6913, 6914, 6915],\n",
    "[7164, 7165, 7166, 7167, 7174],\n",
    "[7585, 7587, 7588, 7589, 7590, 7591],\n",
    "[7982, 7986, 7991, 7993, 7994],\n",
    "[8654, 8655, 8656, 8657, 8658],\n",
    "[8659, 8660, 8661, 8662, 8663],\n",
    "[8665, 8666, 8667, 8668, 8669],\n",
    "[8712, 8713, 8715, 8716, 8717, 8719],\n",
    "[8882, 8885, 8887, 8888, 8889, 8890, 8905],\n",
    "[8892, 8893, 8896, 8897, 8898, 8900],\n",
    "[8886, 8891, 8894, 8895, 8899, 8901, 8903, 8904],\n",
    "[8919, 8920, 8922, 8923, 8924],\n",
    "[9038, 9039, 9041, 9045, 9047],\n",
    "[9048, 9050, 9051, 9052, 9053, 9054, 9055, 9056, 9058, 9059, 9061, 9062, 9064, 9066, 9068, 9069, 9070, 9071, 9072],\n",
    "[9144, 9147, 9148, 9151, 9152, 9153, 9154],\n",
    "[9156, 9159, 9161, 9162, 9163, 9165],\n",
    "[9168, 9169, 9171, 9172, 9175, 9176, 9178, 9179],\n",
    "[9362, 9363, 9364, 9365, 9366],\n",
    "[9411, 9412, 9413, 9414, 9415],\n",
    "[9416, 9417, 9418, 9419, 9420, 9421, 9422, 9423, 9424, 9425],\n",
    "[9806, 9807, 9810, 9811, 9815, 9817, 9818, 9825, 9831, 9838],\n",
    "[9804, 9808, 9813, 9821, 9822, 9823, 9828, 9830, 9833, 9836, 9837, 9851],\n",
    "[9805, 9814, 9819, 9820, 9824, 9832, 9835, 9839, 9843, 9844, 9846, 9847, 9853, 9856, 9857, 9858, 9859],\n",
    "[9816, 9826, 9827, 9829, 9834, 9841, 9842, 9845, 9848, 9849, 9850],\n",
    "[9901, 9902, 9903, 9904, 9905, 9906, 9907, 9908, 9909, 9910, 9911],\n",
    "[9913, 9914, 9918, 9920, 9925],\n",
    "[9912, 9915, 9921, 9922, 9923],\n",
    "[9961, 9962, 9967, 9970, 9982, 9988, 9992, 9995, 10007],\n",
    "[9964, 9974, 9983, 9984, 9989, 10004, 10005],\n",
    "[9963, 9965, 9975, 9981, 10002],\n",
    "[9966, 9978, 9979, 9980, 9987],\n",
    "[9971, 9972, 9976, 9990, 9996, 9997],\n",
    "[9985, 9991, 9994, 9999, 10001],\n",
    "[10122, 10124, 10125, 10130, 10131, 10135, 10137, 10143, 10145, 10148, 10153, 10156, 10160, 10174, 10191],\n",
    "[10119, 10121, 10123, 10126, 10129, 10134, 10140, 10149, 10151, 10157, 10165, 10169, 10197],\n",
    "[10144, 10146, 10152, 10154, 10155, 10158, 10159, 10162, 10163, 10164, 10166, 10171, 10190, 10196, 10199, 10200],\n",
    "[10141, 10142, 10147, 10150, 10170, 10173, 10175, 10177],\n",
    "[10161, 10167, 10168, 10172, 10198],\n",
    "[10104, 10176, 10178, 10179, 10186],\n",
    "[10346, 10354, 10360, 10361, 10363, 10369, 10374, 10420, 10421, 10426, 10431, 10458, 10463],\n",
    "[10347, 10350, 10351, 10359, 10368, 10389, 10391, 10398, 10402, 10410, 10430, 10433, 10448, 10451, 10454, 10462, 10464, 10465, 10466, 10468, 10476, 10478],\n",
    "[10349, 10355, 10357, 10367, 10370, 10372, 10376, 10393, 10399, 10414, 10415, 10424, 10425, 10436, 10438, 10439, 10440, 10443, 10445, 10457, 10459, 10474],\n",
    "[10345, 10356, 10371, 10382, 10388, 10392, 10403, 10406, 10407, 10446, 10453, 10455, 10456],\n",
    "[10353, 10362, 10365, 10366, 10404, 10422, 10429, 10460, 10461],\n",
    "[10373, 10380, 10381, 10387, 10390, 10400, 10405, 10418, 10423, 10427, 10435, 10452],\n",
    "[10377, 10379, 10384, 10385, 10412, 10413, 10416, 10432, 10434, 10444, 10450],\n",
    "[10408, 10409, 10411, 10447, 10449],\n",
    "[10358, 10386, 10397, 10419, 10428],\n",
    "[10512, 10514, 10518, 10522, 10523],\n",
    "[10596, 10607, 10615, 10619, 10621, 10622, 10634, 10635, 10636, 10639, 10640, 10643, 10661, 10670, 10671, 10673, 10680, 10686, 10694, 10695, 10700],\n",
    "[10597, 10616, 10630, 10662, 10674, 10684, 10688, 10689, 10692, 10697, 10699],\n",
    "[10598, 10606, 10620, 10631, 10655, 10660, 10675, 10702, 10703],\n",
    "[10599, 10602, 10604, 10605, 10613, 10614, 10623, 10626, 10644, 10645, 10646, 10648, 10657, 10659],\n",
    "[10600, 10609, 10617, 10638, 10642, 10649, 10650, 10652, 10664, 10665, 10668, 10693, 10701],\n",
    "[10601, 10603, 10608, 10618, 10625, 10628, 10632, 10637, 10641, 10687],\n",
    "[10611, 10612, 10627, 10654, 10667, 10696],\n",
    "[10624, 10629, 10658, 10663, 10681, 10682, 10685],\n",
    "[10610, 10633, 10647, 10656, 10666, 10669, 10672, 10677, 10679, 10691],\n",
    "[10832, 10833, 10834, 10835, 10836],\n",
    "[10839, 10840, 10841, 10842, 10843, 10844, 10845, 10846, 10847],\n",
    "[10848, 10849, 10850, 10851, 10852, 10853, 10854, 10855, 10856, 10857, 10858, 10859],\n",
    "[10860, 10861, 10862, 10863, 10864, 10865, 10866, 10867, 10868, 10869, 10870, 10871, 10872, 10873, 10874, 10875, 10876, 10877, 10878, 10879, 10880, 10881, 10882, 10883, 10884, 10885, 10886, 10887, 10888, 10889, 10890, 10891, 10892, 10893, 10894, 10895, 10896, 10897, 10898, 10899, 10900, 10901, 10902, 10903, 10904, 10905, 10906, 10907, 10908, 10909, 10910, 10911, 10912, 10913, 10914, 10915, 10916, 10917, 10918, 10919, 10920, 10921],\n",
    "[10970, 10974, 10975, 10976, 10977, 10978, 10979, 10980, 10983, 10986, 10988, 10989, 10992],\n",
    "[10981, 10982, 10987, 10990, 10993, 10994],\n",
    "[11022, 11023, 11024, 11025, 11026, 11027],\n",
    "[11028, 11029, 11030, 11031, 11032, 11033, 11034, 11035, 11036, 11037, 11038, 11039, 11040, 11041, 11042, 11043, 11044, 11045, 11046, 11047, 11048, 11049, 11050, 11051, 11052, 11053, 11054, 11055, 11056, 11057, 11058, 11059, 11060, 11061, 11062, 11063, 11064, 11065, 11066, 11067, 11068, 11069, 11070, 11071, 11072, 11073, 11074, 11075, 11076, 11077, 11078, 11079, 11080, 11081, 11082, 11083, 11084],\n",
    "[11148, 11151, 11154, 11159, 11160, 11164, 11165, 11166, 11167, 11168, 11169, 11171],\n",
    "[11149, 11152, 11153, 11155, 11157, 11158, 11161, 11162, 11170],\n",
    "[11172, 11174, 11176, 11177, 11179, 11180, 11181, 11182, 11183, 11184, 11186, 11188, 11189],\n",
    "]\n"
   ]
  },
  {
   "cell_type": "markdown",
   "metadata": {},
   "source": [
    "CODE"
   ]
  },
  {
   "cell_type": "code",
   "execution_count": 22,
   "metadata": {},
   "outputs": [],
   "source": [
    "# pip install moviepy"
   ]
  },
  {
   "cell_type": "code",
   "execution_count": 23,
   "metadata": {},
   "outputs": [],
   "source": [
    "import moviepy.editor as mp\n",
    "import os"
   ]
  },
  {
   "cell_type": "code",
   "execution_count": 24,
   "metadata": {},
   "outputs": [],
   "source": [
    "def create_clip(gif_paths, output_path, fps=25):\n",
    "    # Create a list to store the video clips\n",
    "    clips = []\n",
    "    if frames_saved ==1:\n",
    "        create_folder(output_path+'/Frames')\n",
    "    # Load each GIF image and convert it to a video clip\n",
    "    for path in gif_paths:\n",
    "        if frames_saved ==1:\n",
    "            # Save the image to a folder\n",
    "            frame_output_path = (output_path+'/Frames')\n",
    "            frame_output_file = f'{frame_output_path}/{os.path.splitext(os.path.basename(path))[0]}.{image_type}'\n",
    "\n",
    "            # Copy image to the Frames folder\n",
    "            os.system(f'cp {path} {frame_output_file}')\n",
    "        \n",
    "        # Create an image sequence clip from the GIF image\n",
    "        clip = mp.ImageSequenceClip([path], fps=fps)\n",
    "        clips.append(clip)\n",
    "    # Concatenate the video clips\n",
    "    final_clip = mp.concatenate_videoclips(clips)\n",
    "\n",
    "    # Set the output video file name and extension\n",
    "    if frames_saved ==1:\n",
    "        output_file = f'{output_path}/Clip.mp4'\n",
    "    else:\n",
    "        output_file = f'{output_path}.mp4'\n",
    "\n",
    "    # Write the final clip to a video file\n",
    "    final_clip.write_videofile(output_file, codec='libx264', fps=fps)\n",
    "\n",
    "    # Close the clips\n",
    "    final_clip.close()\n",
    "    for clip in clips:\n",
    "        clip.close()"
   ]
  },
  {
   "cell_type": "code",
   "execution_count": 25,
   "metadata": {},
   "outputs": [],
   "source": [
    "def create_folder(folder_path):\n",
    "    # Check if the folder does not exist\n",
    "    if not os.path.exists(folder_path):\n",
    "        # Create the folder\n",
    "        os.makedirs(folder_path)\n",
    "        print(f\"Folder created: {folder_path}\")\n",
    "    else:\n",
    "        print(f\"Folder already exists: {folder_path}\")"
   ]
  },
  {
   "cell_type": "code",
   "execution_count": 26,
   "metadata": {},
   "outputs": [],
   "source": [
    "def mypaths(frames,image_type):\n",
    "  paths=[]\n",
    "\n",
    "  for i in frames:\n",
    "    paths.append(f'Frames{image_type.upper()}/{i}.{image_type}')\n",
    "\n",
    "  print(paths)\n",
    "  return paths"
   ]
  },
  {
   "cell_type": "markdown",
   "metadata": {},
   "source": [
    "Main"
   ]
  },
  {
   "cell_type": "code",
   "execution_count": 28,
   "metadata": {},
   "outputs": [
    {
     "name": "stdout",
     "output_type": "stream",
     "text": [
      "['FramesJPG/5820.jpg', 'FramesJPG/5821.jpg', 'FramesJPG/5822.jpg', 'FramesJPG/5823.jpg', 'FramesJPG/5824.jpg', 'FramesJPG/5825.jpg', 'FramesJPG/5826.jpg', 'FramesJPG/5827.jpg', 'FramesJPG/5828.jpg', 'FramesJPG/5829.jpg', 'FramesJPG/5830.jpg', 'FramesJPG/5831.jpg', 'FramesJPG/5832.jpg', 'FramesJPG/5833.jpg', 'FramesJPG/5834.jpg', 'FramesJPG/5835.jpg', 'FramesJPG/5836.jpg', 'FramesJPG/5837.jpg', 'FramesJPG/5838.jpg']\n",
      "Moviepy - Building video CreatedClipsJPG/NotConsecutiveFrames[5820-5838] - Cluster 11.mp4.\n",
      "Moviepy - Writing video CreatedClipsJPG/NotConsecutiveFrames[5820-5838] - Cluster 11.mp4\n",
      "\n"
     ]
    },
    {
     "name": "stderr",
     "output_type": "stream",
     "text": [
      "                                                   "
     ]
    },
    {
     "name": "stdout",
     "output_type": "stream",
     "text": [
      "Moviepy - Done !\n",
      "Moviepy - video ready CreatedClipsJPG/NotConsecutiveFrames[5820-5838] - Cluster 11.mp4\n",
      "['FramesJPG/6900.jpg', 'FramesJPG/6901.jpg', 'FramesJPG/6902.jpg', 'FramesJPG/6903.jpg', 'FramesJPG/6904.jpg', 'FramesJPG/6905.jpg', 'FramesJPG/6906.jpg', 'FramesJPG/6907.jpg', 'FramesJPG/6908.jpg', 'FramesJPG/6909.jpg', 'FramesJPG/6910.jpg', 'FramesJPG/6911.jpg', 'FramesJPG/6912.jpg', 'FramesJPG/6913.jpg', 'FramesJPG/6914.jpg', 'FramesJPG/6915.jpg']\n"
     ]
    },
    {
     "name": "stderr",
     "output_type": "stream",
     "text": [
      "\r"
     ]
    },
    {
     "name": "stdout",
     "output_type": "stream",
     "text": [
      "Moviepy - Building video CreatedClipsJPG/NotConsecutiveFrames[6900-6915] - Cluster 18.mp4.\n",
      "Moviepy - Writing video CreatedClipsJPG/NotConsecutiveFrames[6900-6915] - Cluster 18.mp4\n",
      "\n"
     ]
    },
    {
     "name": "stderr",
     "output_type": "stream",
     "text": [
      "                                                   "
     ]
    },
    {
     "name": "stdout",
     "output_type": "stream",
     "text": [
      "Moviepy - Done !\n",
      "Moviepy - video ready CreatedClipsJPG/NotConsecutiveFrames[6900-6915] - Cluster 18.mp4\n",
      "['FramesJPG/9048.jpg', 'FramesJPG/9050.jpg', 'FramesJPG/9051.jpg', 'FramesJPG/9052.jpg', 'FramesJPG/9053.jpg', 'FramesJPG/9054.jpg', 'FramesJPG/9055.jpg', 'FramesJPG/9056.jpg', 'FramesJPG/9058.jpg', 'FramesJPG/9059.jpg', 'FramesJPG/9061.jpg', 'FramesJPG/9062.jpg', 'FramesJPG/9064.jpg', 'FramesJPG/9066.jpg', 'FramesJPG/9068.jpg', 'FramesJPG/9069.jpg', 'FramesJPG/9070.jpg', 'FramesJPG/9071.jpg', 'FramesJPG/9072.jpg']\n"
     ]
    },
    {
     "name": "stderr",
     "output_type": "stream",
     "text": [
      "\r"
     ]
    },
    {
     "name": "stdout",
     "output_type": "stream",
     "text": [
      "Moviepy - Building video CreatedClipsJPG/NotConsecutiveFrames[9048-9072] - Cluster 31.mp4.\n",
      "Moviepy - Writing video CreatedClipsJPG/NotConsecutiveFrames[9048-9072] - Cluster 31.mp4\n",
      "\n"
     ]
    },
    {
     "name": "stderr",
     "output_type": "stream",
     "text": [
      "                                                   "
     ]
    },
    {
     "name": "stdout",
     "output_type": "stream",
     "text": [
      "Moviepy - Done !\n",
      "Moviepy - video ready CreatedClipsJPG/NotConsecutiveFrames[9048-9072] - Cluster 31.mp4\n",
      "['FramesJPG/9805.jpg', 'FramesJPG/9814.jpg', 'FramesJPG/9819.jpg', 'FramesJPG/9820.jpg', 'FramesJPG/9824.jpg', 'FramesJPG/9832.jpg', 'FramesJPG/9835.jpg', 'FramesJPG/9839.jpg', 'FramesJPG/9843.jpg', 'FramesJPG/9844.jpg', 'FramesJPG/9846.jpg', 'FramesJPG/9847.jpg', 'FramesJPG/9853.jpg', 'FramesJPG/9856.jpg', 'FramesJPG/9857.jpg', 'FramesJPG/9858.jpg', 'FramesJPG/9859.jpg']\n"
     ]
    },
    {
     "name": "stderr",
     "output_type": "stream",
     "text": [
      "\r"
     ]
    },
    {
     "name": "stdout",
     "output_type": "stream",
     "text": [
      "Moviepy - Building video CreatedClipsJPG/NotConsecutiveFrames[9805-9859] - Cluster 40.mp4.\n",
      "Moviepy - Writing video CreatedClipsJPG/NotConsecutiveFrames[9805-9859] - Cluster 40.mp4\n",
      "\n"
     ]
    },
    {
     "name": "stderr",
     "output_type": "stream",
     "text": [
      "                                                   \r"
     ]
    },
    {
     "name": "stdout",
     "output_type": "stream",
     "text": [
      "Moviepy - Done !\n",
      "Moviepy - video ready CreatedClipsJPG/NotConsecutiveFrames[9805-9859] - Cluster 40.mp4\n",
      "['FramesJPG/10122.jpg', 'FramesJPG/10124.jpg', 'FramesJPG/10125.jpg', 'FramesJPG/10130.jpg', 'FramesJPG/10131.jpg', 'FramesJPG/10135.jpg', 'FramesJPG/10137.jpg', 'FramesJPG/10143.jpg', 'FramesJPG/10145.jpg', 'FramesJPG/10148.jpg', 'FramesJPG/10153.jpg', 'FramesJPG/10156.jpg', 'FramesJPG/10160.jpg', 'FramesJPG/10174.jpg', 'FramesJPG/10191.jpg']\n",
      "Moviepy - Building video CreatedClipsJPG/NotConsecutiveFrames[10122-10191] - Cluster 51.mp4.\n",
      "Moviepy - Writing video CreatedClipsJPG/NotConsecutiveFrames[10122-10191] - Cluster 51.mp4\n",
      "\n"
     ]
    },
    {
     "name": "stderr",
     "output_type": "stream",
     "text": [
      "                                                   "
     ]
    },
    {
     "name": "stdout",
     "output_type": "stream",
     "text": [
      "Moviepy - Done !\n",
      "Moviepy - video ready CreatedClipsJPG/NotConsecutiveFrames[10122-10191] - Cluster 51.mp4\n",
      "['FramesJPG/10119.jpg', 'FramesJPG/10121.jpg', 'FramesJPG/10123.jpg', 'FramesJPG/10126.jpg', 'FramesJPG/10129.jpg', 'FramesJPG/10134.jpg', 'FramesJPG/10140.jpg', 'FramesJPG/10149.jpg', 'FramesJPG/10151.jpg', 'FramesJPG/10157.jpg', 'FramesJPG/10165.jpg', 'FramesJPG/10169.jpg', 'FramesJPG/10197.jpg']\n"
     ]
    },
    {
     "name": "stderr",
     "output_type": "stream",
     "text": [
      "\r"
     ]
    },
    {
     "name": "stdout",
     "output_type": "stream",
     "text": [
      "Moviepy - Building video CreatedClipsJPG/NotConsecutiveFrames[10119-10197] - Cluster 52.mp4.\n",
      "Moviepy - Writing video CreatedClipsJPG/NotConsecutiveFrames[10119-10197] - Cluster 52.mp4\n",
      "\n"
     ]
    },
    {
     "name": "stderr",
     "output_type": "stream",
     "text": [
      "                                                   "
     ]
    },
    {
     "name": "stdout",
     "output_type": "stream",
     "text": [
      "Moviepy - Done !\n",
      "Moviepy - video ready CreatedClipsJPG/NotConsecutiveFrames[10119-10197] - Cluster 52.mp4\n",
      "['FramesJPG/10144.jpg', 'FramesJPG/10146.jpg', 'FramesJPG/10152.jpg', 'FramesJPG/10154.jpg', 'FramesJPG/10155.jpg', 'FramesJPG/10158.jpg', 'FramesJPG/10159.jpg', 'FramesJPG/10162.jpg', 'FramesJPG/10163.jpg', 'FramesJPG/10164.jpg', 'FramesJPG/10166.jpg', 'FramesJPG/10171.jpg', 'FramesJPG/10190.jpg', 'FramesJPG/10196.jpg', 'FramesJPG/10199.jpg', 'FramesJPG/10200.jpg']\n"
     ]
    },
    {
     "name": "stderr",
     "output_type": "stream",
     "text": [
      "\r"
     ]
    },
    {
     "name": "stdout",
     "output_type": "stream",
     "text": [
      "Moviepy - Building video CreatedClipsJPG/NotConsecutiveFrames[10144-10200] - Cluster 53.mp4.\n",
      "Moviepy - Writing video CreatedClipsJPG/NotConsecutiveFrames[10144-10200] - Cluster 53.mp4\n",
      "\n"
     ]
    },
    {
     "name": "stderr",
     "output_type": "stream",
     "text": [
      "                                                   "
     ]
    },
    {
     "name": "stdout",
     "output_type": "stream",
     "text": [
      "Moviepy - Done !\n",
      "Moviepy - video ready CreatedClipsJPG/NotConsecutiveFrames[10144-10200] - Cluster 53.mp4\n",
      "['FramesJPG/10346.jpg', 'FramesJPG/10354.jpg', 'FramesJPG/10360.jpg', 'FramesJPG/10361.jpg', 'FramesJPG/10363.jpg', 'FramesJPG/10369.jpg', 'FramesJPG/10374.jpg', 'FramesJPG/10420.jpg', 'FramesJPG/10421.jpg', 'FramesJPG/10426.jpg', 'FramesJPG/10431.jpg', 'FramesJPG/10458.jpg', 'FramesJPG/10463.jpg']\n"
     ]
    },
    {
     "name": "stderr",
     "output_type": "stream",
     "text": [
      "\r"
     ]
    },
    {
     "name": "stdout",
     "output_type": "stream",
     "text": [
      "Moviepy - Building video CreatedClipsJPG/NotConsecutiveFrames[10346-10463] - Cluster 57.mp4.\n",
      "Moviepy - Writing video CreatedClipsJPG/NotConsecutiveFrames[10346-10463] - Cluster 57.mp4\n",
      "\n"
     ]
    },
    {
     "name": "stderr",
     "output_type": "stream",
     "text": [
      "                                                   "
     ]
    },
    {
     "name": "stdout",
     "output_type": "stream",
     "text": [
      "Moviepy - Done !\n",
      "Moviepy - video ready CreatedClipsJPG/NotConsecutiveFrames[10346-10463] - Cluster 57.mp4\n",
      "['FramesJPG/10347.jpg', 'FramesJPG/10350.jpg', 'FramesJPG/10351.jpg', 'FramesJPG/10359.jpg', 'FramesJPG/10368.jpg', 'FramesJPG/10389.jpg', 'FramesJPG/10391.jpg', 'FramesJPG/10398.jpg', 'FramesJPG/10402.jpg', 'FramesJPG/10410.jpg', 'FramesJPG/10430.jpg', 'FramesJPG/10433.jpg', 'FramesJPG/10448.jpg', 'FramesJPG/10451.jpg', 'FramesJPG/10454.jpg', 'FramesJPG/10462.jpg', 'FramesJPG/10464.jpg', 'FramesJPG/10465.jpg', 'FramesJPG/10466.jpg', 'FramesJPG/10468.jpg', 'FramesJPG/10476.jpg', 'FramesJPG/10478.jpg']\n"
     ]
    },
    {
     "name": "stderr",
     "output_type": "stream",
     "text": [
      "\r"
     ]
    },
    {
     "name": "stdout",
     "output_type": "stream",
     "text": [
      "Moviepy - Building video CreatedClipsJPG/NotConsecutiveFrames[10347-10478] - Cluster 58.mp4.\n",
      "Moviepy - Writing video CreatedClipsJPG/NotConsecutiveFrames[10347-10478] - Cluster 58.mp4\n",
      "\n"
     ]
    },
    {
     "name": "stderr",
     "output_type": "stream",
     "text": [
      "                                                   \r"
     ]
    },
    {
     "name": "stdout",
     "output_type": "stream",
     "text": [
      "Moviepy - Done !\n",
      "Moviepy - video ready CreatedClipsJPG/NotConsecutiveFrames[10347-10478] - Cluster 58.mp4\n",
      "['FramesJPG/10349.jpg', 'FramesJPG/10355.jpg', 'FramesJPG/10357.jpg', 'FramesJPG/10367.jpg', 'FramesJPG/10370.jpg', 'FramesJPG/10372.jpg', 'FramesJPG/10376.jpg', 'FramesJPG/10393.jpg', 'FramesJPG/10399.jpg', 'FramesJPG/10414.jpg', 'FramesJPG/10415.jpg', 'FramesJPG/10424.jpg', 'FramesJPG/10425.jpg', 'FramesJPG/10436.jpg', 'FramesJPG/10438.jpg', 'FramesJPG/10439.jpg', 'FramesJPG/10440.jpg', 'FramesJPG/10443.jpg', 'FramesJPG/10445.jpg', 'FramesJPG/10457.jpg', 'FramesJPG/10459.jpg', 'FramesJPG/10474.jpg']\n",
      "Moviepy - Building video CreatedClipsJPG/NotConsecutiveFrames[10349-10474] - Cluster 59.mp4.\n",
      "Moviepy - Writing video CreatedClipsJPG/NotConsecutiveFrames[10349-10474] - Cluster 59.mp4\n",
      "\n"
     ]
    },
    {
     "name": "stderr",
     "output_type": "stream",
     "text": [
      "                                                   \r"
     ]
    },
    {
     "name": "stdout",
     "output_type": "stream",
     "text": [
      "Moviepy - Done !\n",
      "Moviepy - video ready CreatedClipsJPG/NotConsecutiveFrames[10349-10474] - Cluster 59.mp4\n",
      "['FramesJPG/10345.jpg', 'FramesJPG/10356.jpg', 'FramesJPG/10371.jpg', 'FramesJPG/10382.jpg', 'FramesJPG/10388.jpg', 'FramesJPG/10392.jpg', 'FramesJPG/10403.jpg', 'FramesJPG/10406.jpg', 'FramesJPG/10407.jpg', 'FramesJPG/10446.jpg', 'FramesJPG/10453.jpg', 'FramesJPG/10455.jpg', 'FramesJPG/10456.jpg']\n",
      "Moviepy - Building video CreatedClipsJPG/NotConsecutiveFrames[10345-10456] - Cluster 60.mp4.\n",
      "Moviepy - Writing video CreatedClipsJPG/NotConsecutiveFrames[10345-10456] - Cluster 60.mp4\n",
      "\n"
     ]
    },
    {
     "name": "stderr",
     "output_type": "stream",
     "text": [
      "                                                   \r"
     ]
    },
    {
     "name": "stdout",
     "output_type": "stream",
     "text": [
      "Moviepy - Done !\n",
      "Moviepy - video ready CreatedClipsJPG/NotConsecutiveFrames[10345-10456] - Cluster 60.mp4\n",
      "['FramesJPG/10596.jpg', 'FramesJPG/10607.jpg', 'FramesJPG/10615.jpg', 'FramesJPG/10619.jpg', 'FramesJPG/10621.jpg', 'FramesJPG/10622.jpg', 'FramesJPG/10634.jpg', 'FramesJPG/10635.jpg', 'FramesJPG/10636.jpg', 'FramesJPG/10639.jpg', 'FramesJPG/10640.jpg', 'FramesJPG/10643.jpg', 'FramesJPG/10661.jpg', 'FramesJPG/10670.jpg', 'FramesJPG/10671.jpg', 'FramesJPG/10673.jpg', 'FramesJPG/10680.jpg', 'FramesJPG/10686.jpg', 'FramesJPG/10694.jpg', 'FramesJPG/10695.jpg', 'FramesJPG/10700.jpg']\n",
      "Moviepy - Building video CreatedClipsJPG/NotConsecutiveFrames[10596-10700] - Cluster 67.mp4.\n",
      "Moviepy - Writing video CreatedClipsJPG/NotConsecutiveFrames[10596-10700] - Cluster 67.mp4\n",
      "\n"
     ]
    },
    {
     "name": "stderr",
     "output_type": "stream",
     "text": [
      "                                                   "
     ]
    },
    {
     "name": "stdout",
     "output_type": "stream",
     "text": [
      "Moviepy - Done !\n",
      "Moviepy - video ready CreatedClipsJPG/NotConsecutiveFrames[10596-10700] - Cluster 67.mp4\n",
      "['FramesJPG/10599.jpg', 'FramesJPG/10602.jpg', 'FramesJPG/10604.jpg', 'FramesJPG/10605.jpg', 'FramesJPG/10613.jpg', 'FramesJPG/10614.jpg', 'FramesJPG/10623.jpg', 'FramesJPG/10626.jpg', 'FramesJPG/10644.jpg', 'FramesJPG/10645.jpg', 'FramesJPG/10646.jpg', 'FramesJPG/10648.jpg', 'FramesJPG/10657.jpg', 'FramesJPG/10659.jpg']\n"
     ]
    },
    {
     "name": "stderr",
     "output_type": "stream",
     "text": [
      "\r"
     ]
    },
    {
     "name": "stdout",
     "output_type": "stream",
     "text": [
      "Moviepy - Building video CreatedClipsJPG/NotConsecutiveFrames[10599-10659] - Cluster 70.mp4.\n",
      "Moviepy - Writing video CreatedClipsJPG/NotConsecutiveFrames[10599-10659] - Cluster 70.mp4\n",
      "\n"
     ]
    },
    {
     "name": "stderr",
     "output_type": "stream",
     "text": [
      "                                                   "
     ]
    },
    {
     "name": "stdout",
     "output_type": "stream",
     "text": [
      "Moviepy - Done !\n",
      "Moviepy - video ready CreatedClipsJPG/NotConsecutiveFrames[10599-10659] - Cluster 70.mp4\n",
      "['FramesJPG/10600.jpg', 'FramesJPG/10609.jpg', 'FramesJPG/10617.jpg', 'FramesJPG/10638.jpg', 'FramesJPG/10642.jpg', 'FramesJPG/10649.jpg', 'FramesJPG/10650.jpg', 'FramesJPG/10652.jpg', 'FramesJPG/10664.jpg', 'FramesJPG/10665.jpg', 'FramesJPG/10668.jpg', 'FramesJPG/10693.jpg', 'FramesJPG/10701.jpg']\n"
     ]
    },
    {
     "name": "stderr",
     "output_type": "stream",
     "text": [
      "\r"
     ]
    },
    {
     "name": "stdout",
     "output_type": "stream",
     "text": [
      "Moviepy - Building video CreatedClipsJPG/NotConsecutiveFrames[10600-10701] - Cluster 71.mp4.\n",
      "Moviepy - Writing video CreatedClipsJPG/NotConsecutiveFrames[10600-10701] - Cluster 71.mp4\n",
      "\n"
     ]
    },
    {
     "name": "stderr",
     "output_type": "stream",
     "text": [
      "                                                   "
     ]
    },
    {
     "name": "stdout",
     "output_type": "stream",
     "text": [
      "Moviepy - Done !\n",
      "Moviepy - video ready CreatedClipsJPG/NotConsecutiveFrames[10600-10701] - Cluster 71.mp4\n",
      "['FramesJPG/10860.jpg', 'FramesJPG/10861.jpg', 'FramesJPG/10862.jpg', 'FramesJPG/10863.jpg', 'FramesJPG/10864.jpg', 'FramesJPG/10865.jpg', 'FramesJPG/10866.jpg', 'FramesJPG/10867.jpg', 'FramesJPG/10868.jpg', 'FramesJPG/10869.jpg', 'FramesJPG/10870.jpg', 'FramesJPG/10871.jpg', 'FramesJPG/10872.jpg', 'FramesJPG/10873.jpg', 'FramesJPG/10874.jpg', 'FramesJPG/10875.jpg', 'FramesJPG/10876.jpg', 'FramesJPG/10877.jpg', 'FramesJPG/10878.jpg', 'FramesJPG/10879.jpg', 'FramesJPG/10880.jpg', 'FramesJPG/10881.jpg', 'FramesJPG/10882.jpg', 'FramesJPG/10883.jpg', 'FramesJPG/10884.jpg', 'FramesJPG/10885.jpg', 'FramesJPG/10886.jpg', 'FramesJPG/10887.jpg', 'FramesJPG/10888.jpg', 'FramesJPG/10889.jpg', 'FramesJPG/10890.jpg', 'FramesJPG/10891.jpg', 'FramesJPG/10892.jpg', 'FramesJPG/10893.jpg', 'FramesJPG/10894.jpg', 'FramesJPG/10895.jpg', 'FramesJPG/10896.jpg', 'FramesJPG/10897.jpg', 'FramesJPG/10898.jpg', 'FramesJPG/10899.jpg', 'FramesJPG/10900.jpg', 'FramesJPG/10901.jpg', 'FramesJPG/10902.jpg', 'FramesJPG/10903.jpg', 'FramesJPG/10904.jpg', 'FramesJPG/10905.jpg', 'FramesJPG/10906.jpg', 'FramesJPG/10907.jpg', 'FramesJPG/10908.jpg', 'FramesJPG/10909.jpg', 'FramesJPG/10910.jpg', 'FramesJPG/10911.jpg', 'FramesJPG/10912.jpg', 'FramesJPG/10913.jpg', 'FramesJPG/10914.jpg', 'FramesJPG/10915.jpg', 'FramesJPG/10916.jpg', 'FramesJPG/10917.jpg', 'FramesJPG/10918.jpg', 'FramesJPG/10919.jpg', 'FramesJPG/10920.jpg', 'FramesJPG/10921.jpg']\n",
      "Cant create cluster 79\n",
      "['FramesJPG/10970.jpg', 'FramesJPG/10974.jpg', 'FramesJPG/10975.jpg', 'FramesJPG/10976.jpg', 'FramesJPG/10977.jpg', 'FramesJPG/10978.jpg', 'FramesJPG/10979.jpg', 'FramesJPG/10980.jpg', 'FramesJPG/10983.jpg', 'FramesJPG/10986.jpg', 'FramesJPG/10988.jpg', 'FramesJPG/10989.jpg', 'FramesJPG/10992.jpg']\n",
      "Cant create cluster 80\n",
      "['FramesJPG/11028.jpg', 'FramesJPG/11029.jpg', 'FramesJPG/11030.jpg', 'FramesJPG/11031.jpg', 'FramesJPG/11032.jpg', 'FramesJPG/11033.jpg', 'FramesJPG/11034.jpg', 'FramesJPG/11035.jpg', 'FramesJPG/11036.jpg', 'FramesJPG/11037.jpg', 'FramesJPG/11038.jpg', 'FramesJPG/11039.jpg', 'FramesJPG/11040.jpg', 'FramesJPG/11041.jpg', 'FramesJPG/11042.jpg', 'FramesJPG/11043.jpg', 'FramesJPG/11044.jpg', 'FramesJPG/11045.jpg', 'FramesJPG/11046.jpg', 'FramesJPG/11047.jpg', 'FramesJPG/11048.jpg', 'FramesJPG/11049.jpg', 'FramesJPG/11050.jpg', 'FramesJPG/11051.jpg', 'FramesJPG/11052.jpg', 'FramesJPG/11053.jpg', 'FramesJPG/11054.jpg', 'FramesJPG/11055.jpg', 'FramesJPG/11056.jpg', 'FramesJPG/11057.jpg', 'FramesJPG/11058.jpg', 'FramesJPG/11059.jpg', 'FramesJPG/11060.jpg', 'FramesJPG/11061.jpg', 'FramesJPG/11062.jpg', 'FramesJPG/11063.jpg', 'FramesJPG/11064.jpg', 'FramesJPG/11065.jpg', 'FramesJPG/11066.jpg', 'FramesJPG/11067.jpg', 'FramesJPG/11068.jpg', 'FramesJPG/11069.jpg', 'FramesJPG/11070.jpg', 'FramesJPG/11071.jpg', 'FramesJPG/11072.jpg', 'FramesJPG/11073.jpg', 'FramesJPG/11074.jpg', 'FramesJPG/11075.jpg', 'FramesJPG/11076.jpg', 'FramesJPG/11077.jpg', 'FramesJPG/11078.jpg', 'FramesJPG/11079.jpg', 'FramesJPG/11080.jpg', 'FramesJPG/11081.jpg', 'FramesJPG/11082.jpg', 'FramesJPG/11083.jpg', 'FramesJPG/11084.jpg']\n",
      "Cant create cluster 83\n",
      "['FramesJPG/11172.jpg', 'FramesJPG/11174.jpg', 'FramesJPG/11176.jpg', 'FramesJPG/11177.jpg', 'FramesJPG/11179.jpg', 'FramesJPG/11180.jpg', 'FramesJPG/11181.jpg', 'FramesJPG/11182.jpg', 'FramesJPG/11183.jpg', 'FramesJPG/11184.jpg', 'FramesJPG/11186.jpg', 'FramesJPG/11188.jpg', 'FramesJPG/11189.jpg']\n",
      "Cant create cluster 86\n"
     ]
    },
    {
     "name": "stderr",
     "output_type": "stream",
     "text": [
      "\r"
     ]
    }
   ],
   "source": [
    "cluster_number=0\n",
    "for i in all:\n",
    "    frames = i\n",
    "    if len(frames)>12:\n",
    "        output_path=f'CreatedClips{image_type.upper()}/{IsItCons}ConsecutiveFrames[{min(frames)}-{max(frames)}] - Cluster {cluster_number}'\n",
    "        if frames_saved ==1:\n",
    "            create_folder(output_path)\n",
    "        try:\n",
    "            create_clip(mypaths(frames,image_type), output_path, fps=25)\n",
    "        except:\n",
    "            print(f\"Cant create cluster {cluster_number}\")\n",
    "    cluster_number+=1"
   ]
  }
 ],
 "metadata": {
  "interpreter": {
   "hash": "7e1998ff7f8aa20ada591c520b972326324e5ea05489af9e422744c7c09f6dad"
  },
  "kernelspec": {
   "display_name": "Python 3 (ipykernel)",
   "language": "python",
   "name": "python3"
  },
  "language_info": {
   "codemirror_mode": {
    "name": "ipython",
    "version": 3
   },
   "file_extension": ".py",
   "mimetype": "text/x-python",
   "name": "python",
   "nbconvert_exporter": "python",
   "pygments_lexer": "ipython3",
   "version": "3.10.9"
  },
  "varInspector": {
   "cols": {
    "lenName": 16,
    "lenType": 16,
    "lenVar": 40
   },
   "kernels_config": {
    "python": {
     "delete_cmd_postfix": "",
     "delete_cmd_prefix": "del ",
     "library": "var_list.py",
     "varRefreshCmd": "print(var_dic_list())"
    },
    "r": {
     "delete_cmd_postfix": ") ",
     "delete_cmd_prefix": "rm(",
     "library": "var_list.r",
     "varRefreshCmd": "cat(var_dic_list()) "
    }
   },
   "types_to_exclude": [
    "module",
    "function",
    "builtin_function_or_method",
    "instance",
    "_Feature"
   ],
   "window_display": false
  }
 },
 "nbformat": 4,
 "nbformat_minor": 2
}
